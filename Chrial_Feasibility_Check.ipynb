{
 "cells": [
  {
   "cell_type": "code",
   "execution_count": 32,
   "id": "b27bd093-379f-4b8c-8b44-20089ae7967a",
   "metadata": {},
   "outputs": [],
   "source": [
    "from rdkit import Chem\n",
    "from rdkit.Chem import AllChem\n",
    "from rdkit.Chem.EnumerateStereoisomers import EnumerateStereoisomers, StereoEnumerationOptions\n",
    "import py3Dmol"
   ]
  },
  {
   "cell_type": "code",
   "execution_count": 34,
   "id": "d905c8ea-abc7-4882-8cea-a97c4efbd249",
   "metadata": {},
   "outputs": [],
   "source": [
    "def chiral_check(smiles):\n",
    "    \"\"\"\n",
    "    Checks input molecule for chemically impossible stereochemistry and enforces \n",
    "    feasible stereochemistry.\n",
    "    \n",
    "    Input:\n",
    "    smiles: SMILES as a string\n",
    "    \n",
    "    Returns:\n",
    "    SMILES outputed as a string with acceptable stereochemistry\n",
    "    \"\"\"\n",
    "    mol = Chem.AddHs(Chem.MolFromSmiles(smiles))\n",
    "    #   Create tuple of (atom object, atom number)\n",
    "    get_atoms = mol.GetAtoms()\n",
    "    atom_num_list = []\n",
    "    for index in mol.GetAtoms():\n",
    "        atom_num_list.append((index, index.GetIdx()))\n",
    "    #   Collect all chiral centers\n",
    "    chiral_centers = Chem.FindMolChiralCenters(mol, includeUnassigned=True)\n",
    "    chiral_atom_dict = {}\n",
    "    for atoms in range(len(chiral_centers)):\n",
    "        chiral_atom_dict[chiral_centers[atoms][0]] = []\n",
    "    #   Create ring object to add ring numbers to corresponding chiral center\n",
    "    ring_info = mol.GetRingInfo()\n",
    "    for number in range(ring_info.NumRings()):\n",
    "        for atoms in chiral_atom_dict:\n",
    "            if atoms in ring_info.AtomRings()[number]:\n",
    "              chiral_atom_dict[atoms].append(number)\n",
    "    #   Create tuples of chiral centers which are required to be restricted\n",
    "    tmp_i = int()\n",
    "    tmp_j = int()\n",
    "    set_chirals = []\n",
    "    for i in chiral_atom_dict:\n",
    "        for j in chiral_atom_dict:\n",
    "            if i < j and chiral_atom_dict[i] == chiral_atom_dict[j]:\n",
    "                for n in atom_num_list:\n",
    "                    if n[1] == i:\n",
    "                        tmp_i = n\n",
    "                    elif n[1] == j:\n",
    "                        tmp_j = n\n",
    "                set_chirals.append((tmp_i, tmp_j))\n",
    "                \n",
    "    #    Enforce correct stereochemistry\n",
    "    if len(set_chirals) > 0:\n",
    "        for check in set_chirals:\n",
    "            if check[0][0].GetChiralTag() == check[1][0].GetChiralTag():\n",
    "                if check[0][0].GetChiralTag() == Chem.CHI_TETRAHEDRAL_CW:\n",
    "                    check[0][0].SetChiralTag(Chem.CHI_TETRAHEDRAL_CCW)\n",
    "                elif check[0][0].GetChiralTag() == Chem.CHI_TETRAHEDRAL_CCW:\n",
    "                    check[0][0].SetChiralTag(Chem.CHI_TETRAHEDRAL_CW)\n",
    "    filtered_smiles = Chem.MolToSmiles(mol, isomericSmiles=True)\n",
    "    return filtered_smiles"
   ]
  },
  {
   "cell_type": "code",
   "execution_count": 48,
   "id": "42aeec31-a1ee-4bcf-8ed1-aacf07c7da75",
   "metadata": {},
   "outputs": [
    {
     "name": "stdout",
     "output_type": "stream",
     "text": [
      "done\n"
     ]
    }
   ],
   "source": [
    "#    Known problem case for testing\n",
    "#    AllChem.EmbedMolecule(Chem.AddHs(Chem.MolFromSmiles(fix_chiral))) will stall for molbad (chemically impossible) but not for molgood or mol null\n",
    "molbad = 'CCSCc1ccc2c(c1)c1c3c(c4c5cc(CSCC)ccc5n5c4c1n2[C@@H]1C[C@H](C(=O)OOC)[C@]5(C)O1)CNC3=O'\n",
    "molgood = 'CCSCc1ccc2c(c1)c1c3c(c4c5cc(CSCC)ccc5n5c4c1n2[C@@H]1C[C@H](C(=O)OOC)[C@@]5(C)O1)CNC3=O'\n",
    "molnull = 'CCSCc1ccc2c(c1)c1c3c(c4c5cc(CSCC)ccc5n5c4c1n2[CH]1C[CH](C(=O)OOC)[C]5(C)O1)CNC3=O'\n",
    "\n",
    "mol = molgood\n",
    "#    molbad should be only SMILES to give issue if 'chiral_check\n",
    "mol = chiral_check(mol)\n",
    "AllChem.EmbedMolecule(Chem.AddHs(Chem.MolFromSmiles(mol)))\n",
    "print('done')"
   ]
  },
  {
   "cell_type": "code",
   "execution_count": null,
   "id": "69a19d0c-150b-4a13-9c26-0abd6d9c9842",
   "metadata": {},
   "outputs": [],
   "source": [
    "#    This sample was taken, verbatim, from the MolecularInsights notebook to show how to incorperate the appropriate function\n",
    "#    Below section should be copied for scaffold generation as well\n",
    "%%time\n",
    "test_generated_smiles_linkers = designer.linker_generation(\n",
    "    *linker_generation,\n",
    "    #n_samples_per_trial=250,\n",
    "    n_samples_per_trial=500,\n",
    "    n_trials=2,\n",
    "    sanitize=True,\n",
    "    do_not_fragment_further=False,\n",
    "    random_seed=100,\n",
    ")\n",
    "\n",
    "#    All generated smiles are taken in, checked for chirality issues, fixed where necessary, and checked again to see if EmbedMolecule stalls\n",
    "generated_smiles_linkers = []\n",
    "for test in test_generated_smiles_linkers:\n",
    "  fix_chiral = chiral_check(test)\n",
    "  generated_smiles_linkers.append(fix_chiral)\n",
    "  #print(fix_chiral)\n",
    "  AllChem.EmbedMolecule(Chem.AddHs(Chem.MolFromSmiles(fix_chiral)))\n",
    "\n",
    "dm.to_image(generated_smiles_linkers[:5], mol_size=(350, 200))"
   ]
  }
 ],
 "metadata": {
  "kernelspec": {
   "display_name": "Python 3 (ipykernel)",
   "language": "python",
   "name": "python3"
  },
  "language_info": {
   "codemirror_mode": {
    "name": "ipython",
    "version": 3
   },
   "file_extension": ".py",
   "mimetype": "text/x-python",
   "name": "python",
   "nbconvert_exporter": "python",
   "pygments_lexer": "ipython3",
   "version": "3.12.4"
  }
 },
 "nbformat": 4,
 "nbformat_minor": 5
}
